{
 "cells": [
  {
   "cell_type": "code",
   "execution_count": 15,
   "id": "7f49131c-88e2-4928-95b1-13447c5f731c",
   "metadata": {},
   "outputs": [
    {
     "name": "stdout",
     "output_type": "stream",
     "text": [
      "Predicted values: \n",
      "[0 1 1 1 1 1 0 0 0 1 1 0 0 1 0 1 0 0 1 0 0 0 1 0 1 1 0 0 1 1 0 1 1 0 0 0 0\n",
      " 1 0 1 0 1 0 1 1 0 0 0 1 0 1 1 0 0 1 0 1 0 1]\n",
      "Confusion Matrix\n",
      "[[31  3]\n",
      " [ 0 25]]\n",
      "Accuracy Score: 1.0\n"
     ]
    }
   ],
   "source": [
    "## Author: Rudrresh P\n",
    "## Branch: M.Tech (Integrated) AI\n",
    "## reg.no : RA2112701010020\n",
    "\n",
    "import numpy as np\n",
    "import pandas as pd\n",
    "import matplotlib.pyplot as plt\n",
    "from sklearn.model_selection import train_test_split\n",
    "from sklearn.preprocessing import StandardScaler\n",
    "from sklearn.linear_model import LogisticRegression\n",
    "from sklearn.metrics import confusion_matrix\n",
    "from sklearn.metrics import accuracy_score\n",
    "\n",
    "data_set = pd.read_csv('ForestFireDataset.csv')\n",
    "x = data_set.iloc[:,[1,2,3]].values\n",
    "y = data_set.iloc[:,4].values\n",
    "\n",
    "x_train,x_test,y_train,y_test = train_test_split(x,y,test_size= 0.25,random_state = 0)\n",
    "st_x = StandardScaler()\n",
    "x_train = st_x.fit_transform(x_train)\n",
    "x_test = st_x.fit_transform(x_test)\n",
    "\n",
    "classifier = LogisticRegression(random_state=0)\n",
    "classifier.fit(x_train,y_train)\n",
    "y_pred = classifier.predict(x_test)\n",
    "\n",
    "print(\"Predicted values: \")\n",
    "print(y_pred)\n",
    "cm = confusion_matrix(y_test,y_pred)\n",
    "print(\"Confusion Matrix\")\n",
    "print(cm)\n",
    "print(\"Accuracy Score: \"+str(np.round(accuracy_score(y_test,y_pred))))\n",
    "\n",
    "\n",
    "\n"
   ]
  }
 ],
 "metadata": {
  "kernelspec": {
   "display_name": "Python 3 (ipykernel)",
   "language": "python",
   "name": "python3"
  },
  "language_info": {
   "codemirror_mode": {
    "name": "ipython",
    "version": 3
   },
   "file_extension": ".py",
   "mimetype": "text/x-python",
   "name": "python",
   "nbconvert_exporter": "python",
   "pygments_lexer": "ipython3",
   "version": "3.9.12"
  }
 },
 "nbformat": 4,
 "nbformat_minor": 5
}
